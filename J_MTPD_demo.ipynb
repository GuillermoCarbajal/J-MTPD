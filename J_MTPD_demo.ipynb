{
  "cells": [
    {
      "cell_type": "markdown",
      "metadata": {
        "id": "view-in-github",
        "colab_type": "text"
      },
      "source": [
        "<a href=\"https://colab.research.google.com/github/GuillermoCarbajal/J-MTPD/blob/main/J_MTPD_demo.ipynb\" target=\"_parent\"><img src=\"https://colab.research.google.com/assets/colab-badge.svg\" alt=\"Open In Colab\"/></a>"
      ]
    },
    {
      "cell_type": "markdown",
      "metadata": {
        "ExecuteTime": {
          "end_time": "2023-01-16T18:24:16.316501Z",
          "start_time": "2023-01-16T18:24:16.313009Z"
        },
        "id": "UeuyqEHv3neb"
      },
      "source": [
        "# Joint Motion Trajectory Prediction and Deblurring (J-MTPD) demo"
      ]
    },
    {
      "cell_type": "markdown",
      "metadata": {
        "ExecuteTime": {
          "end_time": "2023-01-16T18:29:06.215255Z",
          "start_time": "2023-01-16T18:29:06.208625Z"
        },
        "id": "aIo6nhrs3nei"
      },
      "source": [
        "## Clone the repo"
      ]
    },
    {
      "cell_type": "code",
      "execution_count": 5,
      "metadata": {
        "ExecuteTime": {
          "end_time": "2023-10-06T14:47:52.370313Z",
          "start_time": "2023-10-06T14:47:48.375261Z"
        },
        "colab": {
          "base_uri": "https://localhost:8080/"
        },
        "id": "oK1DpfPS3nek",
        "outputId": "f4f9e635-437f-4fde-97ee-efd416b4503d"
      },
      "outputs": [
        {
          "output_type": "stream",
          "name": "stdout",
          "text": [
            "Cloning into 'J-MTPD'...\n",
            "remote: Enumerating objects: 8, done.\u001b[K\n",
            "remote: Counting objects: 100% (8/8), done.\u001b[K\n",
            "remote: Compressing objects: 100% (6/6), done.\u001b[K\n",
            "remote: Total 8 (delta 0), reused 8 (delta 0), pack-reused 0 (from 0)\u001b[K\n",
            "Receiving objects: 100% (8/8), 8.47 KiB | 8.47 MiB/s, done.\n",
            "/content/J-MTPD\n"
          ]
        }
      ],
      "source": [
        "!git clone https://github.com/GuillermoCarbajal/J-MTPD.git\n",
        "%cd J-MTPD"
      ]
    },
    {
      "cell_type": "markdown",
      "metadata": {
        "id": "sL1mSTwX3nen"
      },
      "source": [
        "## Setup the environment"
      ]
    },
    {
      "cell_type": "code",
      "execution_count": 6,
      "metadata": {
        "ExecuteTime": {
          "end_time": "2023-10-06T14:56:09.395055Z",
          "start_time": "2023-10-06T14:56:08.333464Z"
        },
        "colab": {
          "base_uri": "https://localhost:8080/"
        },
        "id": "jkXOSc4C3neo",
        "outputId": "0ae33c70-a863-49c4-dd2d-adf870334b3f"
      },
      "outputs": [
        {
          "output_type": "stream",
          "name": "stdout",
          "text": [
            "Collecting torch==1.11 (from -r requirements.txt (line 1))\n",
            "  Downloading torch-1.11.0-cp310-cp310-manylinux1_x86_64.whl.metadata (24 kB)\n",
            "Collecting torchvision==0.12.0 (from -r requirements.txt (line 2))\n",
            "  Downloading torchvision-0.12.0-cp310-cp310-manylinux1_x86_64.whl.metadata (10 kB)\n",
            "Requirement already satisfied: numpy in /usr/local/lib/python3.10/dist-packages (from -r requirements.txt (line 3)) (1.26.4)\n",
            "Requirement already satisfied: opencv-python in /usr/local/lib/python3.10/dist-packages (from -r requirements.txt (line 4)) (4.10.0.84)\n",
            "Requirement already satisfied: matplotlib in /usr/local/lib/python3.10/dist-packages (from -r requirements.txt (line 5)) (3.7.1)\n",
            "Requirement already satisfied: scikit-image in /usr/local/lib/python3.10/dist-packages (from -r requirements.txt (line 6)) (0.24.0)\n",
            "Requirement already satisfied: gdown in /usr/local/lib/python3.10/dist-packages (from -r requirements.txt (line 7)) (5.2.0)\n",
            "Requirement already satisfied: typing-extensions in /usr/local/lib/python3.10/dist-packages (from torch==1.11->-r requirements.txt (line 1)) (4.12.2)\n",
            "Requirement already satisfied: requests in /usr/local/lib/python3.10/dist-packages (from torchvision==0.12.0->-r requirements.txt (line 2)) (2.32.3)\n",
            "Requirement already satisfied: pillow!=8.3.*,>=5.3.0 in /usr/local/lib/python3.10/dist-packages (from torchvision==0.12.0->-r requirements.txt (line 2)) (10.4.0)\n",
            "Requirement already satisfied: contourpy>=1.0.1 in /usr/local/lib/python3.10/dist-packages (from matplotlib->-r requirements.txt (line 5)) (1.3.0)\n",
            "Requirement already satisfied: cycler>=0.10 in /usr/local/lib/python3.10/dist-packages (from matplotlib->-r requirements.txt (line 5)) (0.12.1)\n",
            "Requirement already satisfied: fonttools>=4.22.0 in /usr/local/lib/python3.10/dist-packages (from matplotlib->-r requirements.txt (line 5)) (4.54.1)\n",
            "Requirement already satisfied: kiwisolver>=1.0.1 in /usr/local/lib/python3.10/dist-packages (from matplotlib->-r requirements.txt (line 5)) (1.4.7)\n",
            "Requirement already satisfied: packaging>=20.0 in /usr/local/lib/python3.10/dist-packages (from matplotlib->-r requirements.txt (line 5)) (24.1)\n",
            "Requirement already satisfied: pyparsing>=2.3.1 in /usr/local/lib/python3.10/dist-packages (from matplotlib->-r requirements.txt (line 5)) (3.2.0)\n",
            "Requirement already satisfied: python-dateutil>=2.7 in /usr/local/lib/python3.10/dist-packages (from matplotlib->-r requirements.txt (line 5)) (2.8.2)\n",
            "Requirement already satisfied: scipy>=1.9 in /usr/local/lib/python3.10/dist-packages (from scikit-image->-r requirements.txt (line 6)) (1.13.1)\n",
            "Requirement already satisfied: networkx>=2.8 in /usr/local/lib/python3.10/dist-packages (from scikit-image->-r requirements.txt (line 6)) (3.4.2)\n",
            "Requirement already satisfied: imageio>=2.33 in /usr/local/lib/python3.10/dist-packages (from scikit-image->-r requirements.txt (line 6)) (2.35.1)\n",
            "Requirement already satisfied: tifffile>=2022.8.12 in /usr/local/lib/python3.10/dist-packages (from scikit-image->-r requirements.txt (line 6)) (2024.9.20)\n",
            "Requirement already satisfied: lazy-loader>=0.4 in /usr/local/lib/python3.10/dist-packages (from scikit-image->-r requirements.txt (line 6)) (0.4)\n",
            "Requirement already satisfied: beautifulsoup4 in /usr/local/lib/python3.10/dist-packages (from gdown->-r requirements.txt (line 7)) (4.12.3)\n",
            "Requirement already satisfied: filelock in /usr/local/lib/python3.10/dist-packages (from gdown->-r requirements.txt (line 7)) (3.16.1)\n",
            "Requirement already satisfied: tqdm in /usr/local/lib/python3.10/dist-packages (from gdown->-r requirements.txt (line 7)) (4.66.5)\n",
            "Requirement already satisfied: six>=1.5 in /usr/local/lib/python3.10/dist-packages (from python-dateutil>=2.7->matplotlib->-r requirements.txt (line 5)) (1.16.0)\n",
            "Requirement already satisfied: soupsieve>1.2 in /usr/local/lib/python3.10/dist-packages (from beautifulsoup4->gdown->-r requirements.txt (line 7)) (2.6)\n",
            "Requirement already satisfied: charset-normalizer<4,>=2 in /usr/local/lib/python3.10/dist-packages (from requests->torchvision==0.12.0->-r requirements.txt (line 2)) (3.4.0)\n",
            "Requirement already satisfied: idna<4,>=2.5 in /usr/local/lib/python3.10/dist-packages (from requests->torchvision==0.12.0->-r requirements.txt (line 2)) (3.10)\n",
            "Requirement already satisfied: urllib3<3,>=1.21.1 in /usr/local/lib/python3.10/dist-packages (from requests->torchvision==0.12.0->-r requirements.txt (line 2)) (2.2.3)\n",
            "Requirement already satisfied: certifi>=2017.4.17 in /usr/local/lib/python3.10/dist-packages (from requests->torchvision==0.12.0->-r requirements.txt (line 2)) (2024.8.30)\n",
            "Requirement already satisfied: PySocks!=1.5.7,>=1.5.6 in /usr/local/lib/python3.10/dist-packages (from requests[socks]->gdown->-r requirements.txt (line 7)) (1.7.1)\n",
            "Downloading torch-1.11.0-cp310-cp310-manylinux1_x86_64.whl (750.6 MB)\n",
            "\u001b[2K   \u001b[90m━━━━━━━━━━━━━━━━━━━━━━━━━━━━━━━━━━━━━━━━\u001b[0m \u001b[32m750.6/750.6 MB\u001b[0m \u001b[31m2.6 MB/s\u001b[0m eta \u001b[36m0:00:00\u001b[0m\n",
            "\u001b[?25hDownloading torchvision-0.12.0-cp310-cp310-manylinux1_x86_64.whl (21.0 MB)\n",
            "\u001b[2K   \u001b[90m━━━━━━━━━━━━━━━━━━━━━━━━━━━━━━━━━━━━━━━━\u001b[0m \u001b[32m21.0/21.0 MB\u001b[0m \u001b[31m40.0 MB/s\u001b[0m eta \u001b[36m0:00:00\u001b[0m\n",
            "\u001b[?25hInstalling collected packages: torch, torchvision\n",
            "  Attempting uninstall: torch\n",
            "    Found existing installation: torch 2.5.0+cu121\n",
            "    Uninstalling torch-2.5.0+cu121:\n",
            "      Successfully uninstalled torch-2.5.0+cu121\n",
            "  Attempting uninstall: torchvision\n",
            "    Found existing installation: torchvision 0.20.0+cu121\n",
            "    Uninstalling torchvision-0.20.0+cu121:\n",
            "      Successfully uninstalled torchvision-0.20.0+cu121\n",
            "\u001b[31mERROR: pip's dependency resolver does not currently take into account all the packages that are installed. This behaviour is the source of the following dependency conflicts.\n",
            "torchaudio 2.5.0+cu121 requires torch==2.5.0, but you have torch 1.11.0 which is incompatible.\u001b[0m\u001b[31m\n",
            "\u001b[0mSuccessfully installed torch-1.11.0 torchvision-0.12.0\n"
          ]
        }
      ],
      "source": [
        "!pip install -r 'requirements.txt'"
      ]
    },
    {
      "cell_type": "markdown",
      "metadata": {
        "id": "FUZSEIxYiywI"
      },
      "source": [
        "## Download pretrained models"
      ]
    },
    {
      "cell_type": "code",
      "execution_count": 7,
      "metadata": {
        "ExecuteTime": {
          "end_time": "2023-10-06T14:52:42.506199Z",
          "start_time": "2023-10-06T14:52:42.491473Z"
        },
        "colab": {
          "base_uri": "https://localhost:8080/",
          "height": 211
        },
        "id": "DiElLLM2HS4D",
        "outputId": "d5d515a6-edb6-4b4e-d998-039f608e9ecd"
      },
      "outputs": [
        {
          "output_type": "stream",
          "name": "stderr",
          "text": [
            "Downloading...\n",
            "From: http://iie.fing.edu.uy/~carbajal/J-MTPD/camera_shake_epoch25_epoch35_epoch50_epoch10_epoch5_epoch25_epoch25_epoch25_epoch27_epoch24_epoch4_epoch10_epoch22_epoch23_epoch90.pkl\n",
            "To: /content/J-MTPD/pretrained_models/camera_shake_epoch25_epoch35_epoch50_epoch10_epoch5_epoch25_epoch25_epoch25_epoch27_epoch24_epoch4_epoch10_epoch22_epoch23_epoch90.pkl\n",
            "100%|██████████| 285M/285M [09:40<00:00, 490kB/s]\n",
            "Downloading...\n",
            "From: http://iie.fing.edu.uy/~carbajal/IEEE_CI_models/J-MTPD/camera_shake_epoch25_epoch35_epoch50_epoch10_epoch5_epoch25_epoch25_epoch25_epoch27_epoch24_epoch4_epoch10_epoch22_epoch23_epoch90.pkl\n",
            "To: /content/J-MTPD/pretrained_models/camera_shake_epoch25_epoch35_epoch50_epoch10_epoch5_epoch25_epoch25_epoch25_epoch27_epoch24_epoch4_epoch10_epoch22_epoch23_epoch90.pkl\n",
            "100%|██████████| 279/279 [00:00<00:00, 1.09MB/s]\n"
          ]
        },
        {
          "output_type": "execute_result",
          "data": {
            "text/plain": [
              "'./pretrained_models/camera_shake_epoch25_epoch35_epoch50_epoch10_epoch5_epoch25_epoch25_epoch25_epoch27_epoch24_epoch4_epoch10_epoch22_epoch23_epoch90.pkl'"
            ],
            "application/vnd.google.colaboratory.intrinsic+json": {
              "type": "string"
            }
          },
          "metadata": {},
          "execution_count": 7
        }
      ],
      "source": [
        "import gdown\n",
        "gdown.download('http://iie.fing.edu.uy/~carbajal/J-MTPD/camera_shake_epoch25_epoch35_epoch50_epoch10_epoch5_epoch25_epoch25_epoch25_epoch27_epoch24_epoch4_epoch10_epoch22_epoch23_epoch90.pkl', \"./pretrained_models/\", quiet=False)\n",
        "gdown.download('http://iie.fing.edu.uy/~carbajal/IEEE_CI_models/J-MTPD/camera_shake_epoch25_epoch35_epoch50_epoch10_epoch5_epoch25_epoch25_epoch25_epoch27_epoch24_epoch4_epoch10_epoch22_epoch23_epoch90.pkl', \"./pretrained_models/\", quiet=False)"
      ]
    },
    {
      "cell_type": "code",
      "execution_count": null,
      "metadata": {
        "id": "LJ46_zyoO2pW"
      },
      "outputs": [],
      "source": []
    },
    {
      "cell_type": "code",
      "execution_count": null,
      "metadata": {
        "id": "RhLav75OMNJW"
      },
      "outputs": [],
      "source": [
        "import torch\n",
        "from skimage.io import imread, imsave\n",
        "from skimage import img_as_ubyte\n",
        "import os\n",
        "from models.CameraShakeModelTwoBranches import CameraShakeModel\n",
        "from models.network_nimbusr_offsets import NIMBUSR_Offsets as net_nimbusr_offsets\n",
        "from torchvision import transforms\n",
        "import numpy as np\n",
        "from torchvision.utils import make_grid\n",
        "from utils.homographies import compute_intrinsics, get_offsets_from_positions, generarK, mostrar_kernels, generate_video\n",
        "from utils.visualization import save_kernels_grid, save_image, tensor2im, show_positions_found, sort_positions, save_kernels_from_offsets, show_kernels_from_offsets_on_blurry_image\n",
        "from matplotlib import pyplot  as plt\n",
        "from skimage.color import gray2rgb\n",
        "from skimage.transform import resize"
      ]
    },
    {
      "cell_type": "markdown",
      "metadata": {
        "id": "KkoenR76DU9-"
      },
      "source": [
        "## Trajectory Computation"
      ]
    },
    {
      "cell_type": "code",
      "execution_count": null,
      "metadata": {
        "ExecuteTime": {
          "end_time": "2023-01-22T19:28:41.067494Z",
          "start_time": "2023-01-22T19:28:41.008424Z"
        },
        "id": "JpDopxdPDP4s"
      },
      "outputs": [],
      "source": [
        "input_image = 'testing_imgs/0316.png'\n",
        "#input_image ='testing_imgs/Blurry2_1.png'\n",
        "camera_model_file = 'pretrained_models/camera_shake_epoch25_epoch35_epoch50_epoch10_epoch5_epoch25_epoch25_epoch25_epoch27_epoch24_epoch4_epoch10_epoch22_epoch23_epoch90.pth'\n",
        "\n",
        "K=25\n",
        "camera_model = CameraShakeModel(K).cuda()\n",
        "camera_model.load_state_dict(torch.load(camera_model_file))\n",
        "camera_model.eval()"
      ]
    },
    {
      "cell_type": "code",
      "execution_count": 8,
      "metadata": {
        "id": "KZ-apJxWL6Zu"
      },
      "outputs": [],
      "source": [
        "def compute_trajectory(input_file, reblur_model, output_dir='testing_results', focal_length=-1,\n",
        "                       gamma_factor=1.0, save_video=False):\n",
        "\n",
        "  n_positions= 25 # number of positions estimated by the network\n",
        "  if not os.path.exists(output_dir):\n",
        "      os.makedirs(output_dir)\n",
        "\n",
        "  img_name = input_file.split('/')[-1]\n",
        "  img_name, ext = img_name.split('.')\n",
        "\n",
        "  print('loading image ',input_file)\n",
        "  blurry_image = imread(input_file)\n",
        "\n",
        "  # Blurry image is transformed to pytorch format\n",
        "  transform = transforms.Compose([\n",
        "      transforms.ToTensor()\n",
        "  ])\n",
        "  blurry_tensor = transform(blurry_image).cuda()\n",
        "\n",
        "  _, C,H,W = blurry_tensor.shape\n",
        "\n",
        "  # Kernels and masks are estimated\n",
        "  blurry_tensor_to_compute_kernels = blurry_tensor**gamma_factor - 0.5\n",
        "\n",
        "\n",
        "  if focal_length > 0:\n",
        "      f = torch.Tensor([focal_length]).to(blurry_tensor.device)\n",
        "      #f = torch.Tensor([float(max(H,W))]).to(tensor_img.device)\n",
        "      intrinsics = torch.Tensor([[f, 0, W/2],[0, f, H/2], [0, 0, 1] ]).cuda(blurry_tensor.device)\n",
        "      intrinsics = intrinsics[None,:,:]\n",
        "  else:\n",
        "      intrinsics = compute_intrinsics(W,H).cuda(blurry_tensor.device)[None]\n",
        "      f =  torch.Tensor([max(H,W)]).to(blurry_tensor.device)\n",
        "\n",
        "      #focal_channel = f/maximo * torch.ones(N,1,H,W).to(tensor_img.device)\n",
        "      #cam_input = torch.concat((focal_channel, tensor_img), dim=1)\n",
        "\n",
        "  # get positions\n",
        "  camera_positions = camera_model(blurry_tensor - 0.5,f)\n",
        "\n",
        "  order = sort_positions(camera_positions[0])\n",
        "  camera_positions[0] = camera_positions[0,order,:]\n",
        "\n",
        "  offsets = get_offsets_from_positions(blurry_tensor.shape, camera_positions, intrinsics)\n",
        "  offsets = offsets.reshape(1,2*n_positions, H,W)\n",
        "  offsets_BT=None\n",
        "\n",
        "\n",
        "  netG = load_nimbusr_net(args.nimbusr_model_type)\n",
        "  netG.eval()\n",
        "  noise_level = 0.01\n",
        "  noise_level = torch.FloatTensor([noise_level]).view(1,1,1).cuda(GPU)\n",
        "\n",
        "  output = netG(blurry_tensor, offsets, 1, sigma=noise_level[None,:], offsets_BT=offsets_BT)\n",
        "\n",
        "\n",
        "  output_img = tensor2im(torch.clamp(output[0].detach(),0,1) - 0.5)\n",
        "  save_image(output_img, os.path.join(output_dir, img_name + '_PMBM.png' ))\n",
        "\n",
        "  found_positions_np = camera_positions[0].detach().cpu().numpy()\n",
        "  np.savetxt(os.path.join(output_dir,f'{img_name}_found_positions.txt'), found_positions_np)\n",
        "  pose = np.zeros((found_positions_np.shape[0], 6))\n",
        "  pose[:, 3:] = found_positions_np\n",
        "\n",
        "  #K, _ = generarK((H,W,C), pose, A=intrinsics[0].detach().cpu().numpy())\n",
        "  kernels_file = os.path.join(output_dir, img_name + '_kernels_found.png' )\n",
        "  #kernels_estimated = mostrar_kernels(K, (H,W,C), output_name = kernels_file)\n",
        "\n",
        "\n",
        "  show_kernels_from_offsets_on_blurry_image(blurry_tensor[0],offsets[0].reshape(n_positions,2,H,W), kernels_file)\n",
        "  print('Kernels saved in ',os.path.join(output_dir, img_name + '_kernels.png') )\n",
        "\n",
        "  save_image((255*blurry_image).astype(np.uint8), os.path.join(output_dir, img_name + '.png' ))\n",
        "  print('Output saved in ', os.path.join(output_dir, img_name + '_J-MTPD.png' ))\n",
        "\n",
        "  frames, reblurred = generate_video(output, camera_positions, intrinsics[0])\n",
        "  print(reblurred.shape)\n",
        "  reblurred = tensor2im(torch.clamp(reblurred[0].detach(),0,1) - 0.5)\n",
        "  save_image(reblurred, os.path.join(output_dir, img_name + '_reblurred.png' ))\n",
        "\n",
        "  show_positions_found(found_positions_np, intrinsics[0,0,0].detach().cpu().numpy(), os.path.join(output_dir, img_name + '_positions_found.png'))\n",
        "\n",
        "  if save_video:\n",
        "      #imgs=[];\n",
        "      output_video = os.path.join(output_dir, img_name + '.avi')\n",
        "      save_video(frames, output_video)\n",
        "      print('Video saved in ', output_video)\n"
      ]
    },
    {
      "cell_type": "code",
      "execution_count": null,
      "metadata": {
        "id": "tLTU_G1tLb-X"
      },
      "outputs": [],
      "source": [
        "compute_trajectory(input_image, camera_model)"
      ]
    },
    {
      "cell_type": "markdown",
      "metadata": {
        "id": "ZPel3cx0d6oU"
      },
      "source": [
        "## Image Deblurring"
      ]
    },
    {
      "cell_type": "code",
      "execution_count": null,
      "metadata": {
        "ExecuteTime": {
          "end_time": "2023-01-22T19:35:21.360409Z",
          "start_time": "2023-01-22T19:35:21.340336Z"
        },
        "id": "a-ngjPshgDXy"
      },
      "outputs": [],
      "source": [
        "#from models.network_nimbusr_pmbm import NIMBUSR_PMBM as net\n",
        "from models.network_nimbusr_offsets import NIMBUSR_Offsets as net_nimbusr_offsets"
      ]
    },
    {
      "cell_type": "code",
      "execution_count": 9,
      "metadata": {
        "id": "2pEBZZENfmfb"
      },
      "outputs": [],
      "source": [
        "def load_nimbusr_net(type='offsets'):\n",
        "    opt_net = { \"n_iter\": 8\n",
        "        , \"h_nc\": 64\n",
        "        , \"in_nc\": 4 #2 if args.gray else 4 #4\n",
        "        , \"out_nc\":3 #1 if args.gray else 3 #3\n",
        "        #, \"ksize\": 25\n",
        "        , \"nc\": [64, 128, 256, 512]\n",
        "        , \"nb\": 2\n",
        "        , \"gc\": 32\n",
        "        , \"ng\": 2\n",
        "        , \"reduction\" : 16\n",
        "        , \"act_mode\": \"R\"\n",
        "        , \"upsample_mode\": \"convtranspose\"\n",
        "        , \"downsample_mode\": \"strideconv\"}\n",
        "\n",
        "    path_pretrained = args.restoration_network #r'../model_zoo/NIMBUSR.pth'\n",
        "\n",
        "    if type=='pmbm':\n",
        "        netG = net(n_iter=opt_net['n_iter'],\n",
        "                    h_nc=opt_net['h_nc'],\n",
        "                    in_nc=opt_net['in_nc'],\n",
        "                    out_nc=opt_net['out_nc'],\n",
        "                    nc=opt_net['nc'],\n",
        "                    nb=opt_net['nb'],\n",
        "                    act_mode=opt_net['act_mode'],\n",
        "                    downsample_mode=opt_net['downsample_mode'],\n",
        "                    upsample_mode=opt_net['upsample_mode']\n",
        "                    )\n",
        "    elif type=='offsets':\n",
        "        netG = net_nimbusr_offsets(n_iter=opt_net['n_iter'],\n",
        "            h_nc=opt_net['h_nc'],\n",
        "            in_nc=opt_net['in_nc'],\n",
        "            out_nc=opt_net['out_nc'],\n",
        "            nc=opt_net['nc'],\n",
        "            nb=opt_net['nb'],\n",
        "            act_mode=opt_net['act_mode'],\n",
        "            downsample_mode=opt_net['downsample_mode'],\n",
        "            upsample_mode=opt_net['upsample_mode']\n",
        "            )\n",
        "\n",
        "    if os.path.exists(path_pretrained):\n",
        "        print('Loading model for G [{:s}] ...'.format(path_pretrained))\n",
        "        netG.load_state_dict(torch.load(path_pretrained))\n",
        "    else:\n",
        "        print('Model does not exists')\n",
        "\n",
        "    netG = netG.to('cuda')\n",
        "\n",
        "    return netG\n"
      ]
    },
    {
      "cell_type": "code",
      "execution_count": null,
      "metadata": {
        "id": "eM_qzywkgOpy"
      },
      "outputs": [],
      "source": [
        "def restore_images(input_file, reblur_model, output_folder='testing_results', gamma_factor=1.0,\n",
        "                   resize_factor=1, network_type='nimbusr_sat', focal_length=-1, save_video=False):\n",
        "\n",
        "  n_positions= 25 # number of positions estimated by the network\n",
        "  if not os.path.exists(output_folder):\n",
        "      os.makedirs(output_folder)\n",
        "\n",
        "  img_name = input_file.split('/')[-1]\n",
        "  img_name, ext = img_name.split('.')\n",
        "\n",
        "  print('loading image ',input_file)\n",
        "  blurry_image = imread(input_file)\n",
        "\n",
        "  # Blurry image is transformed to pytorch format\n",
        "  transform = transforms.Compose([\n",
        "      transforms.ToTensor()\n",
        "  ])\n",
        "  blurry_tensor = transform(blurry_image).cuda()\n",
        "\n",
        "  _, C,H,W = blurry_tensor.shape\n",
        "\n",
        "  # Kernels and masks are estimated\n",
        "  blurry_tensor_to_compute_kernels = blurry_tensor**gamma_factor - 0.5\n",
        "\n",
        "\n",
        "  if focal_length > 0:\n",
        "      f = torch.Tensor([focal_length]).to(blurry_tensor.device)\n",
        "      #f = torch.Tensor([float(max(H,W))]).to(tensor_img.device)\n",
        "      intrinsics = torch.Tensor([[f, 0, W/2],[0, f, H/2], [0, 0, 1] ]).cuda(blurry_tensor.device)\n",
        "      intrinsics = intrinsics[None,:,:]\n",
        "  else:\n",
        "      intrinsics = compute_intrinsics(W,H).cuda(blurry_tensor.device)[None]\n",
        "      f =  torch.Tensor([max(H,W)]).to(blurry_tensor.device)\n",
        "\n",
        "      #focal_channel = f/maximo * torch.ones(N,1,H,W).to(tensor_img.device)\n",
        "      #cam_input = torch.concat((focal_channel, tensor_img), dim=1)\n",
        "\n",
        "  # get positions\n",
        "  camera_positions = camera_model(blurry_tensor - 0.5,f)\n",
        "\n",
        "  order = sort_positions(camera_positions[0])\n",
        "  camera_positions[0] = camera_positions[0,order,:]\n",
        "\n",
        "  offsets = get_offsets_from_positions(blurry_tensor.shape, camera_positions, intrinsics)\n",
        "  offsets = offsets.reshape(1,2*n_positions, H,W)\n",
        "  offsets_BT=None\n",
        "\n",
        "\n",
        "  netG = load_nimbusr_net('offsets')\n",
        "  netG.eval()\n",
        "  noise_level = 0.01\n",
        "  noise_level = torch.FloatTensor([noise_level]).view(1,1,1).cuda(blurry_tensor.device)\n",
        "\n",
        "  output = netG(blurry_tensor, offsets, 1, sigma=noise_level[None,:], offsets_BT=offsets_BT)\n",
        "\n",
        "\n",
        "  output_img = tensor2im(torch.clamp(output[0].detach(),0,1) - 0.5)\n",
        "  save_image(output_img, os.path.join(output_folder, img_name + '_PMBM.png' ))\n",
        "\n",
        "  found_positions_np = camera_positions[0].detach().cpu().numpy()\n",
        "  np.savetxt(os.path.join(output_folder,f'{img_name}_found_positions.txt'), found_positions_np)\n",
        "  pose = np.zeros((found_positions_np.shape[0], 6))\n",
        "  pose[:, 3:] = found_positions_np\n",
        "\n",
        "  #K, _ = generarK((H,W,C), pose, A=intrinsics[0].detach().cpu().numpy())\n",
        "  kernels_file = os.path.join(output_folder, img_name + '_kernels_found.png' )\n",
        "  #kernels_estimated = mostrar_kernels(K, (H,W,C), output_name = kernels_file)\n",
        "\n",
        "\n",
        "  show_kernels_from_offsets_on_blurry_image(blurry_tensor[0],offsets[0].reshape(n_positions,2,H,W), kernels_file)\n",
        "  print('Kernels saved in ',os.path.join(output_folder, img_name + '_kernels.png') )\n",
        "\n",
        "  save_image((255*blurry_image).astype(np.uint8), os.path.join(output_folder, img_name + '.png' ))\n",
        "  print('Output saved in ', os.path.join(output_folder, img_name + '_J-MTPD.png' ))\n",
        "\n",
        "  frames, reblurred = generate_video(output, camera_positions, intrinsics[0])\n",
        "  print(reblurred.shape)\n",
        "  reblurred = tensor2im(torch.clamp(reblurred[0].detach(),0,1) - 0.5)\n",
        "  save_image(reblurred, os.path.join(output_folder, img_name + '_reblurred.png' ))\n",
        "\n",
        "  show_positions_found(found_positions_np, intrinsics[0,0,0].detach().cpu().numpy(), os.path.join(output_folder, img_name + '_positions_found.png'))\n",
        "\n",
        "  if save_video:\n",
        "      #imgs=[];\n",
        "      output_video = os.path.join(output_folder, img_name + '.avi')\n",
        "      save_video(frames, output_video)\n",
        "      print('Video saved in ', output_video)\n"
      ]
    },
    {
      "cell_type": "code",
      "execution_count": null,
      "metadata": {
        "id": "4LdoyZuYlmIk"
      },
      "outputs": [],
      "source": [
        "input_image = 'testing_imgs/0316.png'\n",
        "input_image = 'testing_imgs/Blurry2_1.png'\n",
        "restoration_model='pretrained_models/80000_G.pth'"
      ]
    },
    {
      "cell_type": "code",
      "execution_count": null,
      "metadata": {
        "id": "zZDznYn4g_bN"
      },
      "outputs": [],
      "source": [
        "restore_images(input_image, camera_model)"
      ]
    },
    {
      "cell_type": "markdown",
      "metadata": {
        "id": "XDfnchPfmsA8"
      },
      "source": [
        "## Try with your own images"
      ]
    },
    {
      "cell_type": "code",
      "execution_count": null,
      "metadata": {
        "id": "vSntM3PGJj8a"
      },
      "outputs": [],
      "source": [
        "from google.colab import files\n",
        "import shutil\n",
        "\n",
        "upload_folder = 'upload/input'\n",
        "result_folder = 'upload/output'\n",
        "\n",
        "if os.path.isdir(upload_folder):\n",
        "    shutil.rmtree(upload_folder)\n",
        "if os.path.isdir(result_folder):\n",
        "    shutil.rmtree(result_folder)\n",
        "os.makedirs(upload_folder)\n",
        "os.makedirs(result_folder)\n",
        "\n",
        "# upload images\n",
        "uploaded = files.upload()\n",
        "for filename in uploaded.keys():\n",
        "  dst_path = os.path.join(upload_folder, filename)\n",
        "  print(f'move {filename} to {dst_path}')\n",
        "  shutil.move(filename, dst_path)"
      ]
    },
    {
      "cell_type": "code",
      "execution_count": null,
      "metadata": {
        "id": "ZvTFR-LKj9_6"
      },
      "outputs": [],
      "source": [
        "import glob\n",
        "input_list = sorted(glob.glob(os.path.join(upload_folder, '*')))\n",
        "for input_path in input_list:\n",
        "  img_input = imread(input_path)\n",
        "  restore_images(input_path, camera_model)"
      ]
    },
    {
      "cell_type": "code",
      "execution_count": null,
      "metadata": {
        "id": "78463DljnnCP"
      },
      "outputs": [],
      "source": []
    }
  ],
  "metadata": {
    "accelerator": "GPU",
    "colab": {
      "provenance": [],
      "include_colab_link": true
    },
    "gpuClass": "standard",
    "kernelspec": {
      "display_name": "Python 3",
      "language": "python",
      "name": "python3"
    },
    "language_info": {
      "codemirror_mode": {
        "name": "ipython",
        "version": 3
      },
      "file_extension": ".py",
      "mimetype": "text/x-python",
      "name": "python",
      "nbconvert_exporter": "python",
      "pygments_lexer": "ipython3",
      "version": "3.8.12"
    },
    "varInspector": {
      "cols": {
        "lenName": 16,
        "lenType": 16,
        "lenVar": 40
      },
      "kernels_config": {
        "python": {
          "delete_cmd_postfix": "",
          "delete_cmd_prefix": "del ",
          "library": "var_list.py",
          "varRefreshCmd": "print(var_dic_list())"
        },
        "r": {
          "delete_cmd_postfix": ") ",
          "delete_cmd_prefix": "rm(",
          "library": "var_list.r",
          "varRefreshCmd": "cat(var_dic_list()) "
        }
      },
      "types_to_exclude": [
        "module",
        "function",
        "builtin_function_or_method",
        "instance",
        "_Feature"
      ],
      "window_display": false
    }
  },
  "nbformat": 4,
  "nbformat_minor": 0
}