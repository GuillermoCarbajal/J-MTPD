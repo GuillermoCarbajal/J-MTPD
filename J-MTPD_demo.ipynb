{
  "cells": [
    {
      "cell_type": "markdown",
      "metadata": {
        "id": "view-in-github",
        "colab_type": "text"
      },
      "source": [
        "<a href=\"https://colab.research.google.com/github/GuillermoCarbajal/J-MTPD/blob/main/J-MTPD_demo.ipynb\" target=\"_parent\"><img src=\"https://colab.research.google.com/assets/colab-badge.svg\" alt=\"Open In Colab\"/></a>"
      ]
    },
    {
      "cell_type": "markdown",
      "metadata": {
        "ExecuteTime": {
          "end_time": "2023-01-16T18:24:16.316501Z",
          "start_time": "2023-01-16T18:24:16.313009Z"
        },
        "id": "UeuyqEHv3neb"
      },
      "source": [
        "# Joint Motion Trajectory Prediction and Deblurring (J-MTPD) demo"
      ]
    },
    {
      "cell_type": "markdown",
      "metadata": {
        "ExecuteTime": {
          "end_time": "2023-01-16T18:29:06.215255Z",
          "start_time": "2023-01-16T18:29:06.208625Z"
        },
        "id": "aIo6nhrs3nei"
      },
      "source": [
        "## Clone the repo"
      ]
    },
    {
      "cell_type": "code",
      "execution_count": null,
      "metadata": {
        "ExecuteTime": {
          "end_time": "2023-10-06T14:47:52.370313Z",
          "start_time": "2023-10-06T14:47:48.375261Z"
        },
        "colab": {
          "base_uri": "https://localhost:8080/"
        },
        "id": "oK1DpfPS3nek",
        "outputId": "d9944af2-27d0-4b63-ab79-b88511815f1a"
      },
      "outputs": [
        {
          "output_type": "stream",
          "name": "stdout",
          "text": [
            "fatal: destination path 'J-MTPD' already exists and is not an empty directory.\n",
            "/content/J-MTPD\n"
          ]
        }
      ],
      "source": [
        "!git clone https://github.com/GuillermoCarbajal/J-MTPD.git\n",
        "%cd J-MTPD"
      ]
    },
    {
      "cell_type": "markdown",
      "metadata": {
        "id": "sL1mSTwX3nen"
      },
      "source": [
        "## Setup the environment"
      ]
    },
    {
      "cell_type": "code",
      "execution_count": null,
      "metadata": {
        "ExecuteTime": {
          "end_time": "2023-10-06T14:56:09.395055Z",
          "start_time": "2023-10-06T14:56:08.333464Z"
        },
        "colab": {
          "base_uri": "https://localhost:8080/"
        },
        "id": "jkXOSc4C3neo",
        "outputId": "9e529fba-a282-4384-96ec-c5e357ebb5ca"
      },
      "outputs": [
        {
          "output_type": "stream",
          "name": "stdout",
          "text": [
            "Requirement already satisfied: torch==1.11 in /usr/local/lib/python3.10/dist-packages (from -r requirements.txt (line 1)) (1.11.0)\n",
            "Requirement already satisfied: torchvision==0.12.0 in /usr/local/lib/python3.10/dist-packages (from -r requirements.txt (line 2)) (0.12.0)\n",
            "Requirement already satisfied: numpy in /usr/local/lib/python3.10/dist-packages (from -r requirements.txt (line 3)) (1.26.4)\n",
            "Requirement already satisfied: opencv-python in /usr/local/lib/python3.10/dist-packages (from -r requirements.txt (line 4)) (4.10.0.84)\n",
            "Requirement already satisfied: matplotlib in /usr/local/lib/python3.10/dist-packages (from -r requirements.txt (line 5)) (3.8.0)\n",
            "Requirement already satisfied: scikit-image in /usr/local/lib/python3.10/dist-packages (from -r requirements.txt (line 6)) (0.24.0)\n",
            "Requirement already satisfied: gdown in /usr/local/lib/python3.10/dist-packages (from -r requirements.txt (line 7)) (5.2.0)\n",
            "Requirement already satisfied: kornia in /usr/local/lib/python3.10/dist-packages (from -r requirements.txt (line 8)) (0.7.4)\n",
            "Requirement already satisfied: typing-extensions in /usr/local/lib/python3.10/dist-packages (from torch==1.11->-r requirements.txt (line 1)) (4.12.2)\n",
            "Requirement already satisfied: requests in /usr/local/lib/python3.10/dist-packages (from torchvision==0.12.0->-r requirements.txt (line 2)) (2.32.3)\n",
            "Requirement already satisfied: pillow!=8.3.*,>=5.3.0 in /usr/local/lib/python3.10/dist-packages (from torchvision==0.12.0->-r requirements.txt (line 2)) (11.0.0)\n",
            "Requirement already satisfied: contourpy>=1.0.1 in /usr/local/lib/python3.10/dist-packages (from matplotlib->-r requirements.txt (line 5)) (1.3.1)\n",
            "Requirement already satisfied: cycler>=0.10 in /usr/local/lib/python3.10/dist-packages (from matplotlib->-r requirements.txt (line 5)) (0.12.1)\n",
            "Requirement already satisfied: fonttools>=4.22.0 in /usr/local/lib/python3.10/dist-packages (from matplotlib->-r requirements.txt (line 5)) (4.55.1)\n",
            "Requirement already satisfied: kiwisolver>=1.0.1 in /usr/local/lib/python3.10/dist-packages (from matplotlib->-r requirements.txt (line 5)) (1.4.7)\n",
            "Requirement already satisfied: packaging>=20.0 in /usr/local/lib/python3.10/dist-packages (from matplotlib->-r requirements.txt (line 5)) (24.2)\n",
            "Requirement already satisfied: pyparsing>=2.3.1 in /usr/local/lib/python3.10/dist-packages (from matplotlib->-r requirements.txt (line 5)) (3.2.0)\n",
            "Requirement already satisfied: python-dateutil>=2.7 in /usr/local/lib/python3.10/dist-packages (from matplotlib->-r requirements.txt (line 5)) (2.8.2)\n",
            "Requirement already satisfied: scipy>=1.9 in /usr/local/lib/python3.10/dist-packages (from scikit-image->-r requirements.txt (line 6)) (1.13.1)\n",
            "Requirement already satisfied: networkx>=2.8 in /usr/local/lib/python3.10/dist-packages (from scikit-image->-r requirements.txt (line 6)) (3.4.2)\n",
            "Requirement already satisfied: imageio>=2.33 in /usr/local/lib/python3.10/dist-packages (from scikit-image->-r requirements.txt (line 6)) (2.36.1)\n",
            "Requirement already satisfied: tifffile>=2022.8.12 in /usr/local/lib/python3.10/dist-packages (from scikit-image->-r requirements.txt (line 6)) (2024.9.20)\n",
            "Requirement already satisfied: lazy-loader>=0.4 in /usr/local/lib/python3.10/dist-packages (from scikit-image->-r requirements.txt (line 6)) (0.4)\n",
            "Requirement already satisfied: beautifulsoup4 in /usr/local/lib/python3.10/dist-packages (from gdown->-r requirements.txt (line 7)) (4.12.3)\n",
            "Requirement already satisfied: filelock in /usr/local/lib/python3.10/dist-packages (from gdown->-r requirements.txt (line 7)) (3.16.1)\n",
            "Requirement already satisfied: tqdm in /usr/local/lib/python3.10/dist-packages (from gdown->-r requirements.txt (line 7)) (4.66.6)\n",
            "Requirement already satisfied: kornia-rs>=0.1.0 in /usr/local/lib/python3.10/dist-packages (from kornia->-r requirements.txt (line 8)) (0.1.7)\n",
            "Requirement already satisfied: six>=1.5 in /usr/local/lib/python3.10/dist-packages (from python-dateutil>=2.7->matplotlib->-r requirements.txt (line 5)) (1.16.0)\n",
            "Requirement already satisfied: soupsieve>1.2 in /usr/local/lib/python3.10/dist-packages (from beautifulsoup4->gdown->-r requirements.txt (line 7)) (2.6)\n",
            "Requirement already satisfied: charset-normalizer<4,>=2 in /usr/local/lib/python3.10/dist-packages (from requests->torchvision==0.12.0->-r requirements.txt (line 2)) (3.4.0)\n",
            "Requirement already satisfied: idna<4,>=2.5 in /usr/local/lib/python3.10/dist-packages (from requests->torchvision==0.12.0->-r requirements.txt (line 2)) (3.10)\n",
            "Requirement already satisfied: urllib3<3,>=1.21.1 in /usr/local/lib/python3.10/dist-packages (from requests->torchvision==0.12.0->-r requirements.txt (line 2)) (2.2.3)\n",
            "Requirement already satisfied: certifi>=2017.4.17 in /usr/local/lib/python3.10/dist-packages (from requests->torchvision==0.12.0->-r requirements.txt (line 2)) (2024.8.30)\n",
            "Requirement already satisfied: PySocks!=1.5.7,>=1.5.6 in /usr/local/lib/python3.10/dist-packages (from requests[socks]->gdown->-r requirements.txt (line 7)) (1.7.1)\n"
          ]
        }
      ],
      "source": [
        "!pip install -r 'requirements.txt'"
      ]
    },
    {
      "cell_type": "markdown",
      "metadata": {
        "id": "FUZSEIxYiywI"
      },
      "source": [
        "## Download pretrained models"
      ]
    },
    {
      "cell_type": "code",
      "execution_count": null,
      "metadata": {
        "ExecuteTime": {
          "end_time": "2023-10-06T14:52:42.506199Z",
          "start_time": "2023-10-06T14:52:42.491473Z"
        },
        "colab": {
          "base_uri": "https://localhost:8080/",
          "height": 211
        },
        "id": "DiElLLM2HS4D",
        "outputId": "a3a88c0b-fe10-4c90-b10f-30d21ac59abd"
      },
      "outputs": [
        {
          "output_type": "stream",
          "name": "stderr",
          "text": [
            "Downloading...\n",
            "From: http://iie.fing.edu.uy/~carbajal/J-MTPD/camera_shake_epoch25_epoch35_epoch50_epoch10_epoch5_epoch25_epoch25_epoch25_epoch27_epoch24_epoch4_epoch10_epoch22_epoch23_epoch90.pkl\n",
            "To: /content/J-MTPD/pretrained_models/camera_shake_epoch25_epoch35_epoch50_epoch10_epoch5_epoch25_epoch25_epoch25_epoch27_epoch24_epoch4_epoch10_epoch22_epoch23_epoch90.pkl\n",
            "100%|██████████| 285M/285M [04:39<00:00, 1.02MB/s]\n",
            "Downloading...\n",
            "From: http://iie.fing.edu.uy/~carbajal/J-MTPD/camera_shake_epoch25_epoch35_epoch50_epoch10_epoch5_epoch25_epoch25_epoch25_epoch27_epoch24_epoch4_epoch10_epoch22_epoch23_epoch90_G.pkl\n",
            "To: /content/J-MTPD/pretrained_models/camera_shake_epoch25_epoch35_epoch50_epoch10_epoch5_epoch25_epoch25_epoch25_epoch27_epoch24_epoch4_epoch10_epoch22_epoch23_epoch90_G.pkl\n",
            "100%|██████████| 68.1M/68.1M [01:12<00:00, 940kB/s] \n"
          ]
        },
        {
          "output_type": "execute_result",
          "data": {
            "text/plain": [
              "'./pretrained_models/camera_shake_epoch25_epoch35_epoch50_epoch10_epoch5_epoch25_epoch25_epoch25_epoch27_epoch24_epoch4_epoch10_epoch22_epoch23_epoch90_G.pkl'"
            ],
            "application/vnd.google.colaboratory.intrinsic+json": {
              "type": "string"
            }
          },
          "metadata": {},
          "execution_count": 3
        }
      ],
      "source": [
        "import gdown\n",
        "gdown.download('http://iie.fing.edu.uy/~carbajal/J-MTPD/camera_shake_epoch25_epoch35_epoch50_epoch10_epoch5_epoch25_epoch25_epoch25_epoch27_epoch24_epoch4_epoch10_epoch22_epoch23_epoch90.pkl', \"./pretrained_models/\", quiet=False)\n",
        "gdown.download('http://iie.fing.edu.uy/~carbajal/J-MTPD/camera_shake_epoch25_epoch35_epoch50_epoch10_epoch5_epoch25_epoch25_epoch25_epoch27_epoch24_epoch4_epoch10_epoch22_epoch23_epoch90_G.pkl', \"./pretrained_models/\", quiet=False)"
      ]
    },
    {
      "cell_type": "code",
      "execution_count": null,
      "metadata": {
        "id": "LJ46_zyoO2pW"
      },
      "outputs": [],
      "source": []
    },
    {
      "cell_type": "code",
      "execution_count": null,
      "metadata": {
        "id": "RhLav75OMNJW"
      },
      "outputs": [],
      "source": [
        "import torch\n",
        "from skimage.io import imread, imsave\n",
        "from skimage import img_as_ubyte\n",
        "import os\n",
        "from models.CameraShakeModelTwoBranches import CameraShakeModelTwoBranches as CameraShakeModel\n",
        "from models.network_nimbusr_offsets import NIMBUSR_Offsets as net_nimbusr_offsets\n",
        "from torchvision import transforms\n",
        "import numpy as np\n",
        "from torchvision.utils import make_grid\n",
        "from utils.homographies import compute_intrinsics, get_offsets_from_positions, generate_video, show_kernels_from_offsets_on_blurry_image\n",
        "from utils.visualization import save_image, tensor2im, show_positions_found, sort_positions\n",
        "from matplotlib import pyplot  as plt\n",
        "from skimage.color import gray2rgb\n",
        "from skimage.transform import resize"
      ]
    },
    {
      "cell_type": "markdown",
      "metadata": {
        "id": "KkoenR76DU9-"
      },
      "source": [
        "## Trajectory Computation"
      ]
    },
    {
      "cell_type": "code",
      "execution_count": null,
      "metadata": {
        "ExecuteTime": {
          "end_time": "2023-01-22T19:28:41.067494Z",
          "start_time": "2023-01-22T19:28:41.008424Z"
        },
        "id": "JpDopxdPDP4s",
        "outputId": "39de9e54-0a54-403d-87b4-74e1970172ce",
        "colab": {
          "base_uri": "https://localhost:8080/"
        }
      },
      "outputs": [
        {
          "output_type": "execute_result",
          "data": {
            "text/plain": [
              "CameraShakeModelTwoBranches(\n",
              "  (inc_rgb): Sequential(\n",
              "    (0): Conv2d(3, 64, kernel_size=(3, 3), stride=(1, 1), padding=(1, 1))\n",
              "    (1): LeakyReLU(negative_slope=0.01, inplace=True)\n",
              "  )\n",
              "  (inc_frgb): Sequential(\n",
              "    (0): Conv2d(4, 64, kernel_size=(3, 3), stride=(1, 1), padding=(1, 1))\n",
              "    (1): LeakyReLU(negative_slope=0.01, inplace=True)\n",
              "  )\n",
              "  (inc_grid_rgb): Sequential(\n",
              "    (0): Conv2d(5, 64, kernel_size=(3, 3), stride=(1, 1), padding=(1, 1))\n",
              "    (1): LeakyReLU(negative_slope=0.01, inplace=True)\n",
              "  )\n",
              "  (inc_gray): Sequential(\n",
              "    (0): Conv2d(1, 64, kernel_size=(3, 3), stride=(1, 1), padding=(1, 1))\n",
              "    (1): LeakyReLU(negative_slope=0.01, inplace=True)\n",
              "  )\n",
              "  (down1): Down(\n",
              "    (double_conv): Sequential(\n",
              "      (0): Conv2d(64, 64, kernel_size=(3, 3), stride=(1, 1), padding=(1, 1))\n",
              "      (1): LeakyReLU(negative_slope=0.01, inplace=True)\n",
              "      (2): Conv2d(64, 64, kernel_size=(3, 3), stride=(1, 1), padding=(1, 1))\n",
              "      (3): LeakyReLU(negative_slope=0.01, inplace=True)\n",
              "    )\n",
              "    (down_sampling): MaxPool2d(kernel_size=2, stride=2, padding=0, dilation=1, ceil_mode=False)\n",
              "  )\n",
              "  (down2): Down(\n",
              "    (double_conv): Sequential(\n",
              "      (0): Conv2d(64, 128, kernel_size=(3, 3), stride=(1, 1), padding=(1, 1))\n",
              "      (1): LeakyReLU(negative_slope=0.01, inplace=True)\n",
              "      (2): Conv2d(128, 128, kernel_size=(3, 3), stride=(1, 1), padding=(1, 1))\n",
              "      (3): LeakyReLU(negative_slope=0.01, inplace=True)\n",
              "    )\n",
              "    (down_sampling): MaxPool2d(kernel_size=2, stride=2, padding=0, dilation=1, ceil_mode=False)\n",
              "  )\n",
              "  (down3): Down(\n",
              "    (double_conv): Sequential(\n",
              "      (0): Conv2d(128, 256, kernel_size=(3, 3), stride=(1, 1), padding=(1, 1))\n",
              "      (1): LeakyReLU(negative_slope=0.01, inplace=True)\n",
              "      (2): Conv2d(256, 256, kernel_size=(3, 3), stride=(1, 1), padding=(1, 1))\n",
              "      (3): LeakyReLU(negative_slope=0.01, inplace=True)\n",
              "    )\n",
              "    (down_sampling): MaxPool2d(kernel_size=2, stride=2, padding=0, dilation=1, ceil_mode=False)\n",
              "  )\n",
              "  (down4): Down(\n",
              "    (double_conv): Sequential(\n",
              "      (0): Conv2d(256, 512, kernel_size=(3, 3), stride=(1, 1), padding=(1, 1))\n",
              "      (1): LeakyReLU(negative_slope=0.01, inplace=True)\n",
              "      (2): Conv2d(512, 512, kernel_size=(3, 3), stride=(1, 1), padding=(1, 1))\n",
              "      (3): LeakyReLU(negative_slope=0.01, inplace=True)\n",
              "    )\n",
              "    (down_sampling): MaxPool2d(kernel_size=2, stride=2, padding=0, dilation=1, ceil_mode=False)\n",
              "  )\n",
              "  (down5): Down(\n",
              "    (double_conv): Sequential(\n",
              "      (0): Conv2d(512, 1024, kernel_size=(3, 3), stride=(1, 1), padding=(1, 1))\n",
              "      (1): LeakyReLU(negative_slope=0.01, inplace=True)\n",
              "      (2): Conv2d(1024, 1024, kernel_size=(3, 3), stride=(1, 1), padding=(1, 1))\n",
              "      (3): LeakyReLU(negative_slope=0.01, inplace=True)\n",
              "    )\n",
              "    (down_sampling): MaxPool2d(kernel_size=2, stride=2, padding=0, dilation=1, ceil_mode=False)\n",
              "  )\n",
              "  (feat): Sequential(\n",
              "    (0): Conv2d(1024, 1024, kernel_size=(3, 3), stride=(1, 1), padding=(1, 1))\n",
              "    (1): LeakyReLU(negative_slope=0.01, inplace=True)\n",
              "  )\n",
              "  (feat5_gap): PooledSkip()\n",
              "  (feat4_gap): PooledSkip()\n",
              "  (feat3_gap): PooledSkip()\n",
              "  (feat2_gap): PooledSkip()\n",
              "  (roll_up1): Up(\n",
              "    (up): Upsample(scale_factor=2.0, mode=bilinear)\n",
              "    (double_conv): Sequential(\n",
              "      (0): Conv2d(1024, 512, kernel_size=(3, 3), stride=(1, 1), padding=(1, 1))\n",
              "      (1): LeakyReLU(negative_slope=0.01, inplace=True)\n",
              "      (2): Conv2d(512, 512, kernel_size=(3, 3), stride=(1, 1), padding=(1, 1))\n",
              "      (3): LeakyReLU(negative_slope=0.01, inplace=True)\n",
              "    )\n",
              "    (feat): Sequential(\n",
              "      (0): Conv2d(1536, 512, kernel_size=(3, 3), stride=(1, 1), padding=(1, 1))\n",
              "      (1): LeakyReLU(negative_slope=0.01, inplace=True)\n",
              "    )\n",
              "  )\n",
              "  (roll_up2): Up(\n",
              "    (up): Upsample(scale_factor=2.0, mode=bilinear)\n",
              "    (double_conv): Sequential(\n",
              "      (0): Conv2d(512, 256, kernel_size=(3, 3), stride=(1, 1), padding=(1, 1))\n",
              "      (1): LeakyReLU(negative_slope=0.01, inplace=True)\n",
              "      (2): Conv2d(256, 256, kernel_size=(3, 3), stride=(1, 1), padding=(1, 1))\n",
              "      (3): LeakyReLU(negative_slope=0.01, inplace=True)\n",
              "    )\n",
              "    (feat): Sequential(\n",
              "      (0): Conv2d(768, 256, kernel_size=(3, 3), stride=(1, 1), padding=(1, 1))\n",
              "      (1): LeakyReLU(negative_slope=0.01, inplace=True)\n",
              "    )\n",
              "  )\n",
              "  (roll_up3): Up(\n",
              "    (up): Upsample(scale_factor=2.0, mode=bilinear)\n",
              "    (double_conv): Sequential(\n",
              "      (0): Conv2d(256, 256, kernel_size=(3, 3), stride=(1, 1), padding=(1, 1))\n",
              "      (1): LeakyReLU(negative_slope=0.01, inplace=True)\n",
              "      (2): Conv2d(256, 256, kernel_size=(3, 3), stride=(1, 1), padding=(1, 1))\n",
              "      (3): LeakyReLU(negative_slope=0.01, inplace=True)\n",
              "    )\n",
              "    (feat): Sequential(\n",
              "      (0): Conv2d(512, 256, kernel_size=(3, 3), stride=(1, 1), padding=(1, 1))\n",
              "      (1): LeakyReLU(negative_slope=0.01, inplace=True)\n",
              "    )\n",
              "  )\n",
              "  (roll_up4): Up(\n",
              "    (up): Upsample(scale_factor=2.0, mode=bilinear)\n",
              "    (double_conv): Sequential(\n",
              "      (0): Conv2d(256, 128, kernel_size=(3, 3), stride=(1, 1), padding=(1, 1))\n",
              "      (1): LeakyReLU(negative_slope=0.01, inplace=True)\n",
              "      (2): Conv2d(128, 128, kernel_size=(3, 3), stride=(1, 1), padding=(1, 1))\n",
              "      (3): LeakyReLU(negative_slope=0.01, inplace=True)\n",
              "    )\n",
              "    (feat): Sequential(\n",
              "      (0): Conv2d(256, 128, kernel_size=(3, 3), stride=(1, 1), padding=(1, 1))\n",
              "      (1): LeakyReLU(negative_slope=0.01, inplace=True)\n",
              "    )\n",
              "  )\n",
              "  (roll_end): Sequential(\n",
              "    (0): Conv2d(128, 128, kernel_size=(3, 3), stride=(1, 1), padding=(1, 1))\n",
              "    (1): LeakyReLU(negative_slope=0.01, inplace=True)\n",
              "    (2): Conv2d(128, 128, kernel_size=(3, 3), stride=(1, 1), padding=(1, 1))\n",
              "    (3): LeakyReLU(negative_slope=0.01, inplace=True)\n",
              "    (4): Conv2d(128, 25, kernel_size=(8, 8), stride=(1, 1))\n",
              "  )\n",
              "  (pitch_yaw_up1): Up(\n",
              "    (up): Upsample(scale_factor=2.0, mode=bilinear)\n",
              "    (double_conv): Sequential(\n",
              "      (0): Conv2d(1024, 512, kernel_size=(3, 3), stride=(1, 1), padding=(1, 1))\n",
              "      (1): LeakyReLU(negative_slope=0.01, inplace=True)\n",
              "      (2): Conv2d(512, 512, kernel_size=(3, 3), stride=(1, 1), padding=(1, 1))\n",
              "      (3): LeakyReLU(negative_slope=0.01, inplace=True)\n",
              "    )\n",
              "    (feat): Sequential(\n",
              "      (0): Conv2d(1536, 512, kernel_size=(3, 3), stride=(1, 1), padding=(1, 1))\n",
              "      (1): LeakyReLU(negative_slope=0.01, inplace=True)\n",
              "    )\n",
              "  )\n",
              "  (pitch_yaw_up2): Up(\n",
              "    (up): Upsample(scale_factor=2.0, mode=bilinear)\n",
              "    (double_conv): Sequential(\n",
              "      (0): Conv2d(512, 256, kernel_size=(3, 3), stride=(1, 1), padding=(1, 1))\n",
              "      (1): LeakyReLU(negative_slope=0.01, inplace=True)\n",
              "      (2): Conv2d(256, 256, kernel_size=(3, 3), stride=(1, 1), padding=(1, 1))\n",
              "      (3): LeakyReLU(negative_slope=0.01, inplace=True)\n",
              "    )\n",
              "    (feat): Sequential(\n",
              "      (0): Conv2d(768, 256, kernel_size=(3, 3), stride=(1, 1), padding=(1, 1))\n",
              "      (1): LeakyReLU(negative_slope=0.01, inplace=True)\n",
              "    )\n",
              "  )\n",
              "  (pitch_yaw_up3): Up(\n",
              "    (up): Upsample(scale_factor=2.0, mode=bilinear)\n",
              "    (double_conv): Sequential(\n",
              "      (0): Conv2d(256, 256, kernel_size=(3, 3), stride=(1, 1), padding=(1, 1))\n",
              "      (1): LeakyReLU(negative_slope=0.01, inplace=True)\n",
              "      (2): Conv2d(256, 256, kernel_size=(3, 3), stride=(1, 1), padding=(1, 1))\n",
              "      (3): LeakyReLU(negative_slope=0.01, inplace=True)\n",
              "    )\n",
              "    (feat): Sequential(\n",
              "      (0): Conv2d(512, 256, kernel_size=(3, 3), stride=(1, 1), padding=(1, 1))\n",
              "      (1): LeakyReLU(negative_slope=0.01, inplace=True)\n",
              "    )\n",
              "  )\n",
              "  (pitch_yaw_up4): Up(\n",
              "    (up): Upsample(scale_factor=2.0, mode=bilinear)\n",
              "    (double_conv): Sequential(\n",
              "      (0): Conv2d(256, 128, kernel_size=(3, 3), stride=(1, 1), padding=(1, 1))\n",
              "      (1): LeakyReLU(negative_slope=0.01, inplace=True)\n",
              "      (2): Conv2d(128, 128, kernel_size=(3, 3), stride=(1, 1), padding=(1, 1))\n",
              "      (3): LeakyReLU(negative_slope=0.01, inplace=True)\n",
              "    )\n",
              "    (feat): Sequential(\n",
              "      (0): Conv2d(256, 128, kernel_size=(3, 3), stride=(1, 1), padding=(1, 1))\n",
              "      (1): LeakyReLU(negative_slope=0.01, inplace=True)\n",
              "    )\n",
              "  )\n",
              "  (pitch_yaw_end): Sequential(\n",
              "    (0): Conv2d(128, 128, kernel_size=(3, 3), stride=(1, 1), padding=(1, 1))\n",
              "    (1): LeakyReLU(negative_slope=0.01, inplace=True)\n",
              "    (2): Conv2d(128, 128, kernel_size=(3, 3), stride=(1, 1), padding=(1, 1))\n",
              "    (3): LeakyReLU(negative_slope=0.01, inplace=True)\n",
              "    (4): Conv2d(128, 50, kernel_size=(8, 8), stride=(1, 1))\n",
              "  )\n",
              ")"
            ]
          },
          "metadata": {},
          "execution_count": 8
        }
      ],
      "source": [
        "#input_image = 'testing_imgs/0316.png'\n",
        "input_image ='testing_imgs/Blurry2_1.png'\n",
        "camera_model_file = 'pretrained_models/camera_shake_epoch25_epoch35_epoch50_epoch10_epoch5_epoch25_epoch25_epoch25_epoch27_epoch24_epoch4_epoch10_epoch22_epoch23_epoch90.pkl'\n",
        "\n",
        "K=25\n",
        "camera_model = CameraShakeModel(K).cuda()\n",
        "camera_model.load_state_dict( torch.load(camera_model_file), strict=False)\n",
        "camera_model.eval()"
      ]
    },
    {
      "cell_type": "code",
      "execution_count": null,
      "metadata": {
        "id": "KZ-apJxWL6Zu"
      },
      "outputs": [],
      "source": [
        "def compute_trajectory(input_file, reblur_model, output_dir='testing_results', focal_length=-1,\n",
        "                       gamma_factor=1.0, save_video=False):\n",
        "\n",
        "  n_positions= 25 # number of positions estimated by the network\n",
        "  if not os.path.exists(output_dir):\n",
        "      os.makedirs(output_dir)\n",
        "\n",
        "  img_name = input_file.split('/')[-1]\n",
        "  img_name, ext = img_name.split('.')\n",
        "\n",
        "  print('loading image ',input_file)\n",
        "  blurry_image = imread(input_file)/255.0\n",
        "\n",
        "  # Blurry image is transformed to pytorch format\n",
        "  blurry_tensor = torch.from_numpy(blurry_image).permute(2,0,1)[None].cuda().float()\n",
        "\n",
        "  _, C,H,W = blurry_tensor.shape\n",
        "\n",
        "  # Kernels and masks are estimated\n",
        "  blurry_tensor_to_compute_kernels = blurry_tensor**gamma_factor - 0.5\n",
        "\n",
        "\n",
        "  if focal_length > 0:\n",
        "      f = torch.Tensor([focal_length]).to(blurry_tensor.device)\n",
        "      #f = torch.Tensor([float(max(H,W))]).to(tensor_img.device)\n",
        "      intrinsics = torch.Tensor([[f, 0, W/2],[0, f, H/2], [0, 0, 1] ]).cuda(blurry_tensor.device)\n",
        "      intrinsics = intrinsics[None,:,:]\n",
        "  else:\n",
        "      intrinsics = compute_intrinsics(W,H).cuda(blurry_tensor.device)[None]\n",
        "      f =  torch.Tensor([max(H,W)]).to(blurry_tensor.device)\n",
        "\n",
        "      #focal_channel = f/maximo * torch.ones(N,1,H,W).to(tensor_img.device)\n",
        "      #cam_input = torch.concat((focal_channel, tensor_img), dim=1)\n",
        "\n",
        "  # get positions\n",
        "  camera_positions = camera_model(blurry_tensor - 0.5,f)\n",
        "\n",
        "  order = sort_positions(camera_positions[0])\n",
        "  camera_positions[0] = camera_positions[0,order,:]\n",
        "\n",
        "  offsets = get_offsets_from_positions(blurry_tensor.shape, camera_positions, intrinsics)\n",
        "  offsets = offsets.reshape(1,2*n_positions, H,W)\n",
        "  offsets_BT=None\n",
        "\n",
        "\n",
        "\n",
        "  found_positions_np = camera_positions[0].detach().cpu().numpy()\n",
        "  np.savetxt(os.path.join(output_dir,f'{img_name}_found_positions.txt'), found_positions_np)\n",
        "  pose = np.zeros((found_positions_np.shape[0], 6))\n",
        "  pose[:, 3:] = found_positions_np\n",
        "\n",
        "  #K, _ = generarK((H,W,C), pose, A=intrinsics[0].detach().cpu().numpy())\n",
        "  kernels_file = os.path.join(output_dir, img_name + '_kernels_found.png' )\n",
        "  #kernels_estimated = mostrar_kernels(K, (H,W,C), output_name = kernels_file)\n",
        "\n",
        "\n",
        "  show_kernels_from_offsets_on_blurry_image(blurry_tensor[0],offsets[0].reshape(n_positions,2,H,W), kernels_file)\n",
        "  print('Kernels saved in ',os.path.join(output_dir, img_name + '_kernels.png') )\n",
        "\n"
      ]
    },
    {
      "cell_type": "code",
      "execution_count": null,
      "metadata": {
        "id": "tLTU_G1tLb-X",
        "colab": {
          "base_uri": "https://localhost:8080/"
        },
        "outputId": "042575d2-40fc-4e8e-c134-b5f642e24431"
      },
      "outputs": [
        {
          "output_type": "stream",
          "name": "stdout",
          "text": [
            "loading image  testing_imgs/Blurry2_1.png\n"
          ]
        },
        {
          "output_type": "stream",
          "name": "stderr",
          "text": [
            "/content/J-MTPD/models/CameraShakeModelTwoBranches.py:221: UserWarning: __floordiv__ is deprecated, and its behavior will change in a future version of pytorch. It currently rounds toward 0 (like the 'trunc' function NOT 'floor'). This results in incorrect rounding for negative values. To keep the current behavior, use torch.div(a, b, rounding_mode='trunc'), or for actual floor division, use torch.div(a, b, rounding_mode='floor').\n",
            "  x1 = F.pad(x1, [diffX // 2, diffX - diffX // 2,\n",
            "/content/J-MTPD/models/CameraShakeModelTwoBranches.py:222: UserWarning: __floordiv__ is deprecated, and its behavior will change in a future version of pytorch. It currently rounds toward 0 (like the 'trunc' function NOT 'floor'). This results in incorrect rounding for negative values. To keep the current behavior, use torch.div(a, b, rounding_mode='trunc'), or for actual floor division, use torch.div(a, b, rounding_mode='floor').\n",
            "  diffY // 2, diffY - diffY // 2])\n"
          ]
        },
        {
          "output_type": "stream",
          "name": "stdout",
          "text": [
            "Kernels saved in  testing_results/Blurry2_1_kernels.png\n"
          ]
        },
        {
          "output_type": "stream",
          "name": "stderr",
          "text": [
            "/content/J-MTPD/utils/homographies.py:344: UserWarning: testing_results/Blurry2_1_kernels_found.png is a low contrast image\n",
            "  imsave(output_name, (255*grid_to_draw.transpose((1, 2, 0))).astype(np.uint8))\n"
          ]
        }
      ],
      "source": [
        "compute_trajectory(input_image, camera_model)"
      ]
    },
    {
      "cell_type": "markdown",
      "metadata": {
        "id": "ZPel3cx0d6oU"
      },
      "source": [
        "## Image Deblurring"
      ]
    },
    {
      "cell_type": "code",
      "execution_count": null,
      "metadata": {
        "ExecuteTime": {
          "end_time": "2023-01-22T19:35:21.360409Z",
          "start_time": "2023-01-22T19:35:21.340336Z"
        },
        "id": "a-ngjPshgDXy"
      },
      "outputs": [],
      "source": [
        "#from models.network_nimbusr_pmbm import NIMBUSR_PMBM as net\n",
        "from models.network_nimbusr_offsets import NIMBUSR_Offsets as net_nimbusr_offsets"
      ]
    },
    {
      "cell_type": "code",
      "execution_count": null,
      "metadata": {
        "id": "2pEBZZENfmfb"
      },
      "outputs": [],
      "source": [
        "def load_nimbusr_net(restoration_network_file, type='offsets'):\n",
        "    opt_net = { \"n_iter\": 8\n",
        "        , \"h_nc\": 64\n",
        "        , \"in_nc\": 4 #2 if args.gray else 4 #4\n",
        "        , \"out_nc\":3 #1 if args.gray else 3 #3\n",
        "        #, \"ksize\": 25\n",
        "        , \"nc\": [64, 128, 256, 512]\n",
        "        , \"nb\": 2\n",
        "        , \"gc\": 32\n",
        "        , \"ng\": 2\n",
        "        , \"reduction\" : 16\n",
        "        , \"act_mode\": \"R\"\n",
        "        , \"upsample_mode\": \"convtranspose\"\n",
        "        , \"downsample_mode\": \"strideconv\"}\n",
        "\n",
        "\n",
        "    if type=='pmbm':\n",
        "        netG = net(n_iter=opt_net['n_iter'],\n",
        "                    h_nc=opt_net['h_nc'],\n",
        "                    in_nc=opt_net['in_nc'],\n",
        "                    out_nc=opt_net['out_nc'],\n",
        "                    nc=opt_net['nc'],\n",
        "                    nb=opt_net['nb'],\n",
        "                    act_mode=opt_net['act_mode'],\n",
        "                    downsample_mode=opt_net['downsample_mode'],\n",
        "                    upsample_mode=opt_net['upsample_mode']\n",
        "                    )\n",
        "    elif type=='offsets':\n",
        "        netG = net_nimbusr_offsets(n_iter=opt_net['n_iter'],\n",
        "            h_nc=opt_net['h_nc'],\n",
        "            in_nc=opt_net['in_nc'],\n",
        "            out_nc=opt_net['out_nc'],\n",
        "            nc=opt_net['nc'],\n",
        "            nb=opt_net['nb'],\n",
        "            act_mode=opt_net['act_mode'],\n",
        "            downsample_mode=opt_net['downsample_mode'],\n",
        "            upsample_mode=opt_net['upsample_mode']\n",
        "            )\n",
        "\n",
        "    if os.path.exists(restoration_network_file):\n",
        "        print('Loading model for G [{:s}] ...'.format(restoration_network_file))\n",
        "        netG.load_state_dict(torch.load(restoration_network_file))\n",
        "    else:\n",
        "        print('Model does not exists')\n",
        "\n",
        "    netG = netG.to('cuda')\n",
        "\n",
        "    return netG\n"
      ]
    },
    {
      "cell_type": "code",
      "execution_count": null,
      "metadata": {
        "id": "eM_qzywkgOpy"
      },
      "outputs": [],
      "source": [
        "def restore_images(input_file, reblur_model, net_G, output_folder='testing_results', gamma_factor=1.0,\n",
        "                   resize_factor=1, network_type='nimbusr_sat', focal_length=-1, save_video=False):\n",
        "\n",
        "  n_positions= 25 # number of positions estimated by the network\n",
        "  if not os.path.exists(output_folder):\n",
        "      os.makedirs(output_folder)\n",
        "\n",
        "  img_name = input_file.split('/')[-1]\n",
        "  img_name, ext = img_name.split('.')\n",
        "\n",
        "  print('loading image ',input_file)\n",
        "  blurry_image = imread(input_file)\n",
        "\n",
        "  blurry_tensor = torch.from_numpy(blurry_image).permute(2,0,1)[None].cuda().float()\n",
        "  print(blurry_tensor.min(),blurry_tensor.max())\n",
        "  _, C,H,W = blurry_tensor.shape\n",
        "\n",
        "  # Kernels and masks are estimated\n",
        "  blurry_tensor_to_compute_kernels = blurry_tensor**gamma_factor - 0.5\n",
        "\n",
        "\n",
        "  if focal_length > 0:\n",
        "      f = torch.Tensor([focal_length]).to(blurry_tensor.device)\n",
        "      #f = torch.Tensor([float(max(H,W))]).to(tensor_img.device)\n",
        "      intrinsics = torch.Tensor([[f, 0, W/2],[0, f, H/2], [0, 0, 1] ]).cuda(blurry_tensor.device)\n",
        "      intrinsics = intrinsics[None,:,:]\n",
        "  else:\n",
        "      intrinsics = compute_intrinsics(W,H).cuda(blurry_tensor.device)[None]\n",
        "      f =  torch.Tensor([max(H,W)]).to(blurry_tensor.device)\n",
        "\n",
        "      #focal_channel = f/maximo * torch.ones(N,1,H,W).to(tensor_img.device)\n",
        "      #cam_input = torch.concat((focal_channel, tensor_img), dim=1)\n",
        "\n",
        "  # get positions\n",
        "  camera_positions = camera_model(blurry_tensor - 0.5,f)\n",
        "\n",
        "  order = sort_positions(camera_positions[0])\n",
        "  camera_positions[0] = camera_positions[0,order,:]\n",
        "\n",
        "  offsets = get_offsets_from_positions(blurry_tensor.shape, camera_positions, intrinsics)\n",
        "  offsets = offsets.reshape(1,2*n_positions, H,W)\n",
        "  offsets_BT=None\n",
        "\n",
        "  print(offsets.min(),offsets.max())\n",
        "\n",
        "\n",
        "  netG.eval()\n",
        "  noise_level = 0.01\n",
        "  noise_level = torch.FloatTensor([noise_level]).view(1,1,1).cuda(blurry_tensor.device)\n",
        "\n",
        "  print('input_shape', blurry_tensor.shape, offsets.shape)\n",
        "  output = netG(blurry_tensor, offsets, 1, sigma=noise_level[None,:], offsets_BT=offsets_BT)\n",
        "\n",
        "\n",
        "  output_img = tensor2im(torch.clamp(output[0].detach(),0,1) - 0.5)\n",
        "  save_image(output_img, os.path.join(output_folder, img_name + '_PMBM.png' ))\n",
        "\n",
        "  found_positions_np = camera_positions[0].detach().cpu().numpy()\n",
        "  np.savetxt(os.path.join(output_folder,f'{img_name}_found_positions.txt'), found_positions_np)\n",
        "  pose = np.zeros((found_positions_np.shape[0], 6))\n",
        "  pose[:, 3:] = found_positions_np\n",
        "\n",
        "  #K, _ = generarK((H,W,C), pose, A=intrinsics[0].detach().cpu().numpy())\n",
        "  kernels_file = os.path.join(output_folder, img_name + '_kernels_found.png' )\n",
        "  #kernels_estimated = mostrar_kernels(K, (H,W,C), output_name = kernels_file)\n",
        "\n",
        "\n",
        "  show_kernels_from_offsets_on_blurry_image(blurry_tensor[0],offsets[0].reshape(n_positions,2,H,W), kernels_file)\n",
        "  print('Kernels saved in ',os.path.join(output_folder, img_name + '_kernels.png') )\n",
        "\n",
        "  save_image((255*blurry_image).astype(np.uint8), os.path.join(output_folder, img_name + '.png' ))\n",
        "  print('Output saved in ', os.path.join(output_folder, img_name + '_J-MTPD.png' ))\n",
        "\n",
        "  frames, reblurred = generate_video(output, camera_positions, intrinsics[0])\n",
        "  print(reblurred.shape)\n",
        "  reblurred = tensor2im(torch.clamp(reblurred[0].detach(),0,1) - 0.5)\n",
        "  save_image(reblurred, os.path.join(output_folder, img_name + '_reblurred.png' ))\n",
        "\n",
        "  show_positions_found(found_positions_np, intrinsics[0,0,0].detach().cpu().numpy(), os.path.join(output_folder, img_name + '_positions_found.png'))\n",
        "\n",
        "  if save_video:\n",
        "      #imgs=[];\n",
        "      output_video = os.path.join(output_folder, img_name + '.avi')\n",
        "      save_video(frames, output_video)\n",
        "      print('Video saved in ', output_video)\n"
      ]
    },
    {
      "cell_type": "code",
      "execution_count": null,
      "metadata": {
        "id": "4LdoyZuYlmIk",
        "colab": {
          "base_uri": "https://localhost:8080/"
        },
        "outputId": "212e705c-a6bb-44f0-b4ab-9a900be698af"
      },
      "outputs": [
        {
          "output_type": "stream",
          "name": "stdout",
          "text": [
            "Loading model for G [pretrained_models/camera_shake_epoch25_epoch35_epoch50_epoch10_epoch5_epoch25_epoch25_epoch25_epoch27_epoch24_epoch4_epoch10_epoch22_epoch23_epoch90_G.pkl] ...\n"
          ]
        }
      ],
      "source": [
        "input_image = 'testing_imgs/0316.png'\n",
        "input_image = 'testing_imgs/Blurry2_1.png'\n",
        "restoration_model='pretrained_models/camera_shake_epoch25_epoch35_epoch50_epoch10_epoch5_epoch25_epoch25_epoch25_epoch27_epoch24_epoch4_epoch10_epoch22_epoch23_epoch90_G.pkl'\n",
        "\n",
        "netG = load_nimbusr_net(restoration_model, 'offsets')"
      ]
    },
    {
      "cell_type": "code",
      "execution_count": null,
      "metadata": {
        "id": "zZDznYn4g_bN",
        "colab": {
          "base_uri": "https://localhost:8080/",
          "height": 480
        },
        "outputId": "437cd8cc-69de-4a15-91dc-4e9ba12bfae0"
      },
      "outputs": [
        {
          "output_type": "stream",
          "name": "stdout",
          "text": [
            "loading image  testing_imgs/Blurry2_1.png\n",
            "tensor(6., device='cuda:0') tensor(255., device='cuda:0')\n",
            "tensor(-3.5825e+08, device='cuda:0', grad_fn=<MinBackward1>) tensor(5.9586e+08, device='cuda:0', grad_fn=<MaxBackward1>)\n",
            "input_shape torch.Size([1, 3, 800, 800]) torch.Size([1, 50, 800, 800])\n"
          ]
        },
        {
          "output_type": "error",
          "ename": "RuntimeError",
          "evalue": "CUDA out of memory. Tried to allocate 124.00 MiB (GPU 0; 14.75 GiB total capacity; 13.56 GiB already allocated; 9.06 MiB free; 13.75 GiB reserved in total by PyTorch) If reserved memory is >> allocated memory try setting max_split_size_mb to avoid fragmentation.  See documentation for Memory Management and PYTORCH_CUDA_ALLOC_CONF",
          "traceback": [
            "\u001b[0;31m---------------------------------------------------------------------------\u001b[0m",
            "\u001b[0;31mRuntimeError\u001b[0m                              Traceback (most recent call last)",
            "\u001b[0;32m<ipython-input-57-51b5069ce3c2>\u001b[0m in \u001b[0;36m<cell line: 1>\u001b[0;34m()\u001b[0m\n\u001b[0;32m----> 1\u001b[0;31m \u001b[0mrestore_images\u001b[0m\u001b[0;34m(\u001b[0m\u001b[0minput_image\u001b[0m\u001b[0;34m,\u001b[0m \u001b[0mcamera_model\u001b[0m\u001b[0;34m,\u001b[0m \u001b[0mnetG\u001b[0m\u001b[0;34m)\u001b[0m\u001b[0;34m\u001b[0m\u001b[0;34m\u001b[0m\u001b[0m\n\u001b[0m",
            "\u001b[0;32m<ipython-input-55-2af95e38f080>\u001b[0m in \u001b[0;36mrestore_images\u001b[0;34m(input_file, reblur_model, net_G, output_folder, gamma_factor, resize_factor, network_type, focal_length, save_video)\u001b[0m\n\u001b[1;32m     50\u001b[0m \u001b[0;34m\u001b[0m\u001b[0m\n\u001b[1;32m     51\u001b[0m   \u001b[0mprint\u001b[0m\u001b[0;34m(\u001b[0m\u001b[0;34m'input_shape'\u001b[0m\u001b[0;34m,\u001b[0m \u001b[0mblurry_tensor\u001b[0m\u001b[0;34m.\u001b[0m\u001b[0mshape\u001b[0m\u001b[0;34m,\u001b[0m \u001b[0moffsets\u001b[0m\u001b[0;34m.\u001b[0m\u001b[0mshape\u001b[0m\u001b[0;34m)\u001b[0m\u001b[0;34m\u001b[0m\u001b[0;34m\u001b[0m\u001b[0m\n\u001b[0;32m---> 52\u001b[0;31m   \u001b[0moutput\u001b[0m \u001b[0;34m=\u001b[0m \u001b[0mnetG\u001b[0m\u001b[0;34m(\u001b[0m\u001b[0mblurry_tensor\u001b[0m\u001b[0;34m,\u001b[0m \u001b[0moffsets\u001b[0m\u001b[0;34m,\u001b[0m \u001b[0;36m1\u001b[0m\u001b[0;34m,\u001b[0m \u001b[0msigma\u001b[0m\u001b[0;34m=\u001b[0m\u001b[0mnoise_level\u001b[0m\u001b[0;34m[\u001b[0m\u001b[0;32mNone\u001b[0m\u001b[0;34m,\u001b[0m\u001b[0;34m:\u001b[0m\u001b[0;34m]\u001b[0m\u001b[0;34m,\u001b[0m \u001b[0moffsets_BT\u001b[0m\u001b[0;34m=\u001b[0m\u001b[0moffsets_BT\u001b[0m\u001b[0;34m)\u001b[0m\u001b[0;34m\u001b[0m\u001b[0;34m\u001b[0m\u001b[0m\n\u001b[0m\u001b[1;32m     53\u001b[0m \u001b[0;34m\u001b[0m\u001b[0m\n\u001b[1;32m     54\u001b[0m \u001b[0;34m\u001b[0m\u001b[0m\n",
            "\u001b[0;32m/usr/local/lib/python3.10/dist-packages/torch/nn/modules/module.py\u001b[0m in \u001b[0;36m_call_impl\u001b[0;34m(self, *input, **kwargs)\u001b[0m\n\u001b[1;32m   1108\u001b[0m         if not (self._backward_hooks or self._forward_hooks or self._forward_pre_hooks or _global_backward_hooks\n\u001b[1;32m   1109\u001b[0m                 or _global_forward_hooks or _global_forward_pre_hooks):\n\u001b[0;32m-> 1110\u001b[0;31m             \u001b[0;32mreturn\u001b[0m \u001b[0mforward_call\u001b[0m\u001b[0;34m(\u001b[0m\u001b[0;34m*\u001b[0m\u001b[0minput\u001b[0m\u001b[0;34m,\u001b[0m \u001b[0;34m**\u001b[0m\u001b[0mkwargs\u001b[0m\u001b[0;34m)\u001b[0m\u001b[0;34m\u001b[0m\u001b[0;34m\u001b[0m\u001b[0m\n\u001b[0m\u001b[1;32m   1111\u001b[0m         \u001b[0;31m# Do not call functions when jit is used\u001b[0m\u001b[0;34m\u001b[0m\u001b[0;34m\u001b[0m\u001b[0m\n\u001b[1;32m   1112\u001b[0m         \u001b[0mfull_backward_hooks\u001b[0m\u001b[0;34m,\u001b[0m \u001b[0mnon_full_backward_hooks\u001b[0m \u001b[0;34m=\u001b[0m \u001b[0;34m[\u001b[0m\u001b[0;34m]\u001b[0m\u001b[0;34m,\u001b[0m \u001b[0;34m[\u001b[0m\u001b[0;34m]\u001b[0m\u001b[0;34m\u001b[0m\u001b[0;34m\u001b[0m\u001b[0m\n",
            "\u001b[0;32m/content/J-MTPD/models/network_nimbusr_offsets.py\u001b[0m in \u001b[0;36mforward\u001b[0;34m(self, y, offsets, sf, sigma, offsets_BT)\u001b[0m\n\u001b[1;32m    350\u001b[0m         \u001b[0mx_0\u001b[0m \u001b[0;34m=\u001b[0m \u001b[0mnn\u001b[0m\u001b[0;34m.\u001b[0m\u001b[0mfunctional\u001b[0m\u001b[0;34m.\u001b[0m\u001b[0minterpolate\u001b[0m\u001b[0;34m(\u001b[0m\u001b[0my\u001b[0m\u001b[0;34m,\u001b[0m \u001b[0mscale_factor\u001b[0m\u001b[0;34m=\u001b[0m\u001b[0msf\u001b[0m\u001b[0;34m,\u001b[0m \u001b[0mmode\u001b[0m\u001b[0;34m=\u001b[0m\u001b[0;34m'nearest'\u001b[0m\u001b[0;34m)\u001b[0m\u001b[0;34m\u001b[0m\u001b[0;34m\u001b[0m\u001b[0m\n\u001b[1;32m    351\u001b[0m         \u001b[0mz_0\u001b[0m \u001b[0;34m=\u001b[0m \u001b[0mx_0\u001b[0m\u001b[0;34m\u001b[0m\u001b[0;34m\u001b[0m\u001b[0m\n\u001b[0;32m--> 352\u001b[0;31m         \u001b[0mh_0\u001b[0m \u001b[0;34m=\u001b[0m \u001b[0mpmbm_batch\u001b[0m\u001b[0;34m(\u001b[0m\u001b[0mx_0\u001b[0m\u001b[0;34m,\u001b[0m \u001b[0moffsets\u001b[0m\u001b[0;34m)\u001b[0m\u001b[0;34m\u001b[0m\u001b[0;34m\u001b[0m\u001b[0m\n\u001b[0m\u001b[1;32m    353\u001b[0m         \u001b[0mu_0\u001b[0m \u001b[0;34m=\u001b[0m \u001b[0mtorch\u001b[0m\u001b[0;34m.\u001b[0m\u001b[0mzeros_like\u001b[0m\u001b[0;34m(\u001b[0m\u001b[0mz_0\u001b[0m\u001b[0;34m)\u001b[0m\u001b[0;34m\u001b[0m\u001b[0;34m\u001b[0m\u001b[0m\n\u001b[1;32m    354\u001b[0m         \u001b[0mab\u001b[0m \u001b[0;34m=\u001b[0m \u001b[0mself\u001b[0m\u001b[0;34m.\u001b[0m\u001b[0mh\u001b[0m\u001b[0;34m(\u001b[0m\u001b[0mtorch\u001b[0m\u001b[0;34m.\u001b[0m\u001b[0mcat\u001b[0m\u001b[0;34m(\u001b[0m\u001b[0;34m(\u001b[0m\u001b[0msigma\u001b[0m\u001b[0;34m,\u001b[0m \u001b[0mtorch\u001b[0m\u001b[0;34m.\u001b[0m\u001b[0mtensor\u001b[0m\u001b[0;34m(\u001b[0m\u001b[0msf\u001b[0m\u001b[0;34m)\u001b[0m\u001b[0;34m.\u001b[0m\u001b[0mtype_as\u001b[0m\u001b[0;34m(\u001b[0m\u001b[0msigma\u001b[0m\u001b[0;34m)\u001b[0m\u001b[0;34m.\u001b[0m\u001b[0mexpand_as\u001b[0m\u001b[0;34m(\u001b[0m\u001b[0msigma\u001b[0m\u001b[0;34m)\u001b[0m\u001b[0;34m)\u001b[0m\u001b[0;34m,\u001b[0m \u001b[0mdim\u001b[0m\u001b[0;34m=\u001b[0m\u001b[0;36m1\u001b[0m\u001b[0;34m)\u001b[0m\u001b[0;34m)\u001b[0m\u001b[0;34m\u001b[0m\u001b[0;34m\u001b[0m\u001b[0m\n",
            "\u001b[0;32m/content/J-MTPD/models/network_nimbusr_offsets.py\u001b[0m in \u001b[0;36mpmbm_batch\u001b[0;34m(x, offsets)\u001b[0m\n\u001b[1;32m    156\u001b[0m     \u001b[0mB\u001b[0m\u001b[0;34m,\u001b[0m\u001b[0mn_pos\u001b[0m\u001b[0;34m,\u001b[0m\u001b[0mH\u001b[0m\u001b[0;34m,\u001b[0m\u001b[0mW\u001b[0m \u001b[0;34m=\u001b[0m \u001b[0moffsets\u001b[0m\u001b[0;34m.\u001b[0m\u001b[0mshape\u001b[0m\u001b[0;34m\u001b[0m\u001b[0;34m\u001b[0m\u001b[0m\n\u001b[1;32m    157\u001b[0m     \u001b[0mn_pos\u001b[0m\u001b[0;34m=\u001b[0m\u001b[0mn_pos\u001b[0m\u001b[0;34m//\u001b[0m\u001b[0;36m2\u001b[0m\u001b[0;34m\u001b[0m\u001b[0;34m\u001b[0m\u001b[0m\n\u001b[0;32m--> 158\u001b[0;31m     \u001b[0my\u001b[0m \u001b[0;34m=\u001b[0m \u001b[0mreblur_offsets\u001b[0m\u001b[0;34m(\u001b[0m\u001b[0mx\u001b[0m\u001b[0;34m,\u001b[0m \u001b[0moffsets\u001b[0m\u001b[0;34m.\u001b[0m\u001b[0mreshape\u001b[0m\u001b[0;34m(\u001b[0m\u001b[0mB\u001b[0m\u001b[0;34m,\u001b[0m\u001b[0mn_pos\u001b[0m\u001b[0;34m,\u001b[0m\u001b[0;36m2\u001b[0m\u001b[0;34m,\u001b[0m\u001b[0mH\u001b[0m\u001b[0;34m,\u001b[0m\u001b[0mW\u001b[0m\u001b[0;34m)\u001b[0m\u001b[0;34m,\u001b[0m \u001b[0mforward\u001b[0m\u001b[0;34m=\u001b[0m\u001b[0;32mTrue\u001b[0m\u001b[0;34m)\u001b[0m\u001b[0;34m\u001b[0m\u001b[0;34m\u001b[0m\u001b[0m\n\u001b[0m\u001b[1;32m    159\u001b[0m \u001b[0;34m\u001b[0m\u001b[0m\n\u001b[1;32m    160\u001b[0m     \u001b[0;32mreturn\u001b[0m \u001b[0my\u001b[0m \u001b[0;31m#torch.cat([pmbm(x[i:i+1], offsets[i:i+1]) for i in range(len(x))])\u001b[0m\u001b[0;34m\u001b[0m\u001b[0;34m\u001b[0m\u001b[0m\n",
            "\u001b[0;32m/content/J-MTPD/utils/homographies.py\u001b[0m in \u001b[0;36mreblur_offsets\u001b[0;34m(sharp, offsets, forward, mask)\u001b[0m\n\u001b[1;32m    125\u001b[0m     \u001b[0moffsets_dc\u001b[0m \u001b[0;34m=\u001b[0m   \u001b[0moffsets\u001b[0m\u001b[0;34m.\u001b[0m\u001b[0mreshape\u001b[0m\u001b[0;34m(\u001b[0m\u001b[0mB\u001b[0m\u001b[0;34m,\u001b[0m\u001b[0;36m2\u001b[0m\u001b[0;34m*\u001b[0m\u001b[0mn_positions\u001b[0m\u001b[0;34m,\u001b[0m\u001b[0mH\u001b[0m\u001b[0;34m,\u001b[0m\u001b[0mW\u001b[0m\u001b[0;34m)\u001b[0m \u001b[0;34m-\u001b[0m \u001b[0mp\u001b[0m\u001b[0;34m.\u001b[0m\u001b[0mreshape\u001b[0m\u001b[0;34m(\u001b[0m\u001b[0;36m1\u001b[0m\u001b[0;34m,\u001b[0m\u001b[0;36m2\u001b[0m\u001b[0;34m*\u001b[0m\u001b[0mn_positions\u001b[0m\u001b[0;34m,\u001b[0m\u001b[0;36m1\u001b[0m\u001b[0;34m,\u001b[0m\u001b[0;36m1\u001b[0m\u001b[0;34m)\u001b[0m \u001b[0;31m#\u001b[0m\u001b[0;34m\u001b[0m\u001b[0;34m\u001b[0m\u001b[0m\n\u001b[1;32m    126\u001b[0m \u001b[0;34m\u001b[0m\u001b[0m\n\u001b[0;32m--> 127\u001b[0;31m     \u001b[0mpad\u001b[0m\u001b[0;34m=\u001b[0m \u001b[0mint\u001b[0m\u001b[0;34m(\u001b[0m\u001b[0mtorch\u001b[0m\u001b[0;34m.\u001b[0m\u001b[0mabs\u001b[0m\u001b[0;34m(\u001b[0m\u001b[0moffsets_dc\u001b[0m\u001b[0;34m)\u001b[0m\u001b[0;34m.\u001b[0m\u001b[0mmax\u001b[0m\u001b[0;34m(\u001b[0m\u001b[0;34m)\u001b[0m\u001b[0;34m)\u001b[0m\u001b[0;34m+\u001b[0m\u001b[0;36m1\u001b[0m\u001b[0;34m\u001b[0m\u001b[0;34m\u001b[0m\u001b[0m\n\u001b[0m\u001b[1;32m    128\u001b[0m     \u001b[0mprint\u001b[0m\u001b[0;34m(\u001b[0m\u001b[0moffsets_dc\u001b[0m\u001b[0;34m.\u001b[0m\u001b[0mshape\u001b[0m\u001b[0;34m,\u001b[0m \u001b[0mpad\u001b[0m\u001b[0;34m)\u001b[0m\u001b[0;34m\u001b[0m\u001b[0;34m\u001b[0m\u001b[0m\n\u001b[1;32m    129\u001b[0m     \u001b[0mpad2d\u001b[0m \u001b[0;34m=\u001b[0m \u001b[0mtorch\u001b[0m\u001b[0;34m.\u001b[0m\u001b[0mnn\u001b[0m\u001b[0;34m.\u001b[0m\u001b[0mReflectionPad2d\u001b[0m\u001b[0;34m(\u001b[0m\u001b[0mpad\u001b[0m\u001b[0;34m)\u001b[0m\u001b[0;34m\u001b[0m\u001b[0;34m\u001b[0m\u001b[0m\n",
            "\u001b[0;31mRuntimeError\u001b[0m: CUDA out of memory. Tried to allocate 124.00 MiB (GPU 0; 14.75 GiB total capacity; 13.56 GiB already allocated; 9.06 MiB free; 13.75 GiB reserved in total by PyTorch) If reserved memory is >> allocated memory try setting max_split_size_mb to avoid fragmentation.  See documentation for Memory Management and PYTORCH_CUDA_ALLOC_CONF"
          ]
        }
      ],
      "source": [
        "restore_images(input_image, camera_model, netG)"
      ]
    },
    {
      "cell_type": "markdown",
      "metadata": {
        "id": "XDfnchPfmsA8"
      },
      "source": [
        "## Try with your own images"
      ]
    },
    {
      "cell_type": "code",
      "execution_count": null,
      "metadata": {
        "id": "vSntM3PGJj8a"
      },
      "outputs": [],
      "source": [
        "from google.colab import files\n",
        "import shutil\n",
        "\n",
        "upload_folder = 'upload/input'\n",
        "result_folder = 'upload/output'\n",
        "\n",
        "if os.path.isdir(upload_folder):\n",
        "    shutil.rmtree(upload_folder)\n",
        "if os.path.isdir(result_folder):\n",
        "    shutil.rmtree(result_folder)\n",
        "os.makedirs(upload_folder)\n",
        "os.makedirs(result_folder)\n",
        "\n",
        "# upload images\n",
        "uploaded = files.upload()\n",
        "for filename in uploaded.keys():\n",
        "  dst_path = os.path.join(upload_folder, filename)\n",
        "  print(f'move {filename} to {dst_path}')\n",
        "  shutil.move(filename, dst_path)"
      ]
    },
    {
      "cell_type": "code",
      "execution_count": null,
      "metadata": {
        "id": "ZvTFR-LKj9_6"
      },
      "outputs": [],
      "source": [
        "import glob\n",
        "input_list = sorted(glob.glob(os.path.join(upload_folder, '*')))\n",
        "for input_path in input_list:\n",
        "  img_input = imread(input_path)\n",
        "  restore_images(input_path, camera_model)"
      ]
    },
    {
      "cell_type": "code",
      "execution_count": null,
      "metadata": {
        "id": "78463DljnnCP"
      },
      "outputs": [],
      "source": []
    }
  ],
  "metadata": {
    "accelerator": "GPU",
    "colab": {
      "provenance": [],
      "include_colab_link": true
    },
    "gpuClass": "standard",
    "kernelspec": {
      "display_name": "Python 3",
      "language": "python",
      "name": "python3"
    },
    "language_info": {
      "codemirror_mode": {
        "name": "ipython",
        "version": 3
      },
      "file_extension": ".py",
      "mimetype": "text/x-python",
      "name": "python",
      "nbconvert_exporter": "python",
      "pygments_lexer": "ipython3",
      "version": "3.8.12"
    },
    "varInspector": {
      "cols": {
        "lenName": 16,
        "lenType": 16,
        "lenVar": 40
      },
      "kernels_config": {
        "python": {
          "delete_cmd_postfix": "",
          "delete_cmd_prefix": "del ",
          "library": "var_list.py",
          "varRefreshCmd": "print(var_dic_list())"
        },
        "r": {
          "delete_cmd_postfix": ") ",
          "delete_cmd_prefix": "rm(",
          "library": "var_list.r",
          "varRefreshCmd": "cat(var_dic_list()) "
        }
      },
      "types_to_exclude": [
        "module",
        "function",
        "builtin_function_or_method",
        "instance",
        "_Feature"
      ],
      "window_display": false
    }
  },
  "nbformat": 4,
  "nbformat_minor": 0
}